{
 "cells": [
  {
   "cell_type": "code",
   "execution_count": 6,
   "metadata": {},
   "outputs": [],
   "source": [
    "import json\n",
    "\n",
    "import pandas as pd\n",
    "import plotly.express as px\n",
    "\n",
    "from ballbeam.paths import ROOT_PATH"
   ]
  },
  {
   "cell_type": "code",
   "execution_count": 7,
   "metadata": {},
   "outputs": [],
   "source": [
    "stems = [p.stem for p in sorted((ROOT_PATH / \"data\" / \"random_waves\").glob(\"*.json\"))]"
   ]
  },
  {
   "cell_type": "code",
   "execution_count": 8,
   "metadata": {},
   "outputs": [],
   "source": [
    "N_warmup = 500\n",
    "N_clean = 2500"
   ]
  },
  {
   "cell_type": "code",
   "execution_count": 9,
   "metadata": {},
   "outputs": [],
   "source": [
    "def to_json_dict(df):\n",
    "    return list(df.to_dict(orient=\"index\").values())"
   ]
  },
  {
   "cell_type": "code",
   "execution_count": 10,
   "metadata": {},
   "outputs": [],
   "source": [
    "for stem in stems:\n",
    "    path = ROOT_PATH / \"data\" / \"random_waves\" / f\"{stem}.json\"\n",
    "    with path.open() as f:\n",
    "        log_data = json.load(f)\n",
    "    df = pd.DataFrame(log_data)\n",
    "\n",
    "    df = df.iloc[N_warmup:N_warmup+N_clean]\n",
    "    \n",
    "    # Write the truncated dataframe back out to JSON\n",
    "    out_json_data = to_json_dict(df)\n",
    "    filename = stem + \"_truncated\" + \".json\"\n",
    "    out_path = ROOT_PATH / \"data\" / \"random_waves\" / \"truncated\" / filename\n",
    "    with out_path.open(\"w\") as f:\n",
    "        json.dump(out_json_data, f, indent=4)"
   ]
  },
  {
   "cell_type": "code",
   "execution_count": null,
   "metadata": {},
   "outputs": [],
   "source": []
  }
 ],
 "metadata": {
  "kernelspec": {
   "display_name": "open-ball-beam",
   "language": "python",
   "name": "python3"
  },
  "language_info": {
   "codemirror_mode": {
    "name": "ipython",
    "version": 3
   },
   "file_extension": ".py",
   "mimetype": "text/x-python",
   "name": "python",
   "nbconvert_exporter": "python",
   "pygments_lexer": "ipython3",
   "version": "3.11.4"
  }
 },
 "nbformat": 4,
 "nbformat_minor": 2
}
