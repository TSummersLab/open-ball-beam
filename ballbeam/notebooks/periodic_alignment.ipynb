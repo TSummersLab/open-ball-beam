{
 "cells": [
  {
   "cell_type": "code",
   "execution_count": 78,
   "metadata": {},
   "outputs": [],
   "source": [
    "import json\n",
    "\n",
    "import pandas as pd\n",
    "import plotly.express as px\n",
    "\n",
    "from ballbeam.paths import ROOT_PATH"
   ]
  },
  {
   "cell_type": "code",
   "execution_count": 79,
   "metadata": {},
   "outputs": [
    {
     "data": {
      "text/plain": [
       "[WindowsPath('c:/Users/bjgra/GitHub/open-ball-beam/data/1716157543135728384.json'),\n",
       " WindowsPath('c:/Users/bjgra/GitHub/open-ball-beam/data/1716157921092502016.json'),\n",
       " WindowsPath('c:/Users/bjgra/GitHub/open-ball-beam/data/1716158556648342528.json'),\n",
       " WindowsPath('c:/Users/bjgra/GitHub/open-ball-beam/data/1716158878592760320.json'),\n",
       " WindowsPath('c:/Users/bjgra/GitHub/open-ball-beam/data/1716159110040802816.json'),\n",
       " WindowsPath('c:/Users/bjgra/GitHub/open-ball-beam/data/example.json')]"
      ]
     },
     "execution_count": 79,
     "metadata": {},
     "output_type": "execute_result"
    }
   ],
   "source": [
    "sorted((ROOT_PATH / \"data\").glob(\"*.json\"))"
   ]
  },
  {
   "cell_type": "code",
   "execution_count": 80,
   "metadata": {},
   "outputs": [],
   "source": [
    "bases = [\n",
    "    \"1716157543135728384\",\n",
    "    \"1716157921092502016\",\n",
    "    \"1716158556648342528\",\n",
    "    \"1716158878592760320\",\n",
    "    \"1716159110040802816\",\n",
    "]"
   ]
  },
  {
   "cell_type": "code",
   "execution_count": 81,
   "metadata": {},
   "outputs": [],
   "source": [
    "filename_base = bases[4]\n",
    "path = ROOT_PATH / \"data\" / f\"{filename_base}.json\"\n",
    "with path.open() as f:\n",
    "    log_data = json.load(f)\n",
    "df = pd.DataFrame(log_data)"
   ]
  },
  {
   "cell_type": "code",
   "execution_count": 82,
   "metadata": {},
   "outputs": [],
   "source": [
    "# Get a list of period start indices\n",
    "df[\"setpoint_diff\"] = df[\"setpoint\"].diff()\n",
    "df[\"period_started\"] = df[\"setpoint_diff\"] > 0\n",
    "period_idxs = df[df[\"period_started\"]].index.to_list()"
   ]
  },
  {
   "cell_type": "code",
   "execution_count": 83,
   "metadata": {},
   "outputs": [],
   "source": [
    "# Split the dataframe at each period\n",
    "from itertools import pairwise\n",
    "split_dfs = []\n",
    "for start, stop in pairwise(period_idxs):\n",
    "    split_dfs.append(df.iloc[start:stop])"
   ]
  },
  {
   "cell_type": "code",
   "execution_count": 84,
   "metadata": {},
   "outputs": [],
   "source": [
    "# Write the split dataframes back out to JSON losslessly\n",
    "\n",
    "def to_json_dict(df):\n",
    "    return list(df.to_dict(orient=\"index\").values())\n",
    "\n",
    "for i, split_df in enumerate(split_dfs):\n",
    "    out_json_data = to_json_dict(split_df)\n",
    "    filename = filename_base + f\"_{i:06d}\" + \".json\"\n",
    "    out_path = ROOT_PATH / \"data\" / \"aligned\" / filename\n",
    "    with out_path.open(\"w\") as f:\n",
    "        json.dump(out_json_data, f, indent=4)"
   ]
  },
  {
   "cell_type": "code",
   "execution_count": null,
   "metadata": {},
   "outputs": [],
   "source": []
  }
 ],
 "metadata": {
  "kernelspec": {
   "display_name": "open-ball-beam",
   "language": "python",
   "name": "python3"
  },
  "language_info": {
   "codemirror_mode": {
    "name": "ipython",
    "version": 3
   },
   "file_extension": ".py",
   "mimetype": "text/x-python",
   "name": "python",
   "nbconvert_exporter": "python",
   "pygments_lexer": "ipython3",
   "version": "3.11.4"
  }
 },
 "nbformat": 4,
 "nbformat_minor": 2
}
