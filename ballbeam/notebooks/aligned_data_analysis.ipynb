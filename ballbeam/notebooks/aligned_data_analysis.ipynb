{
 "cells": [
  {
   "cell_type": "code",
   "execution_count": null,
   "metadata": {},
   "outputs": [],
   "source": [
    "import json\n",
    "\n",
    "import numpy as np\n",
    "from scipy.sparse.linalg import lsqr\n",
    "import pandas as pd\n",
    "import matplotlib.pyplot as plt\n",
    "import plotly.express as px\n",
    "\n",
    "from ballbeam.paths import ROOT_PATH"
   ]
  },
  {
   "cell_type": "code",
   "execution_count": null,
   "metadata": {},
   "outputs": [],
   "source": [
    "def load_log_data(path):\n",
    "    with path.open() as f:\n",
    "        log_data = json.load(f)\n",
    "    return pd.DataFrame(log_data)\n",
    "\n",
    "\n",
    "data = {}\n",
    "for path in (ROOT_PATH / \"data\" / \"aligned\").glob(\"*.json\"):\n",
    "    key = path.stem\n",
    "    df = load_log_data(path)\n",
    "    max_obs = df.observation.abs().max()\n",
    "    # Drop examples where the observation blew up. Garbage.\n",
    "    if max_obs > 0.1:\n",
    "        print(f\"Skipping {key} due to excessive max observation {max_obs:6.3f}\")\n",
    "        continue\n",
    "    data[key] = df"
   ]
  },
  {
   "cell_type": "code",
   "execution_count": null,
   "metadata": {},
   "outputs": [],
   "source": [
    "def create_rolling_window(arr, k):\n",
    "    T = len(arr)\n",
    "    if not k < T:\n",
    "        raise ValueError(\"k must be less than the length of the input array\")\n",
    "\n",
    "    result = np.lib.stride_tricks.sliding_window_view(arr, window_shape=k)\n",
    "    return result[:-1]\n",
    "\n",
    "def clipped_mean(x, lp, up):\n",
    "    lb = np.percentile(x, lp, axis=0)\n",
    "    ub = np.percentile(x, up, axis=0)\n",
    "    return np.mean(np.clip(x, lb, ub), axis=0)"
   ]
  },
  {
   "cell_type": "code",
   "execution_count": null,
   "metadata": {},
   "outputs": [],
   "source": [
    "obs_df = pd.DataFrame({key: df.observation for key, df in data.items()})\n",
    "act_df = pd.DataFrame({key: df.action for key, df in data.items()})\n",
    "\n",
    "Y = obs_df.to_numpy().T\n",
    "U = act_df.to_numpy().T\n",
    "\n",
    "y = Y.flatten()\n",
    "u = U.flatten()\n",
    "\n",
    "fig, axs = plt.subplots(nrows=2, sharex=True)\n",
    "axs[0].plot(Y.T, c=\"b\", alpha=0.01)\n",
    "axs[1].plot(U.T, c=\"r\", alpha=0.01)\n",
    "plt.show()"
   ]
  },
  {
   "cell_type": "code",
   "execution_count": null,
   "metadata": {},
   "outputs": [],
   "source": [
    "k = 60   # filter length"
   ]
  },
  {
   "cell_type": "code",
   "execution_count": null,
   "metadata": {},
   "outputs": [],
   "source": [
    "# # Pick sections around the setpoint changes\n",
    "# a = int(1.1*k)   # backward duration\n",
    "# b = int(1.1*k)   #  forward duration\n",
    "# p = 250  # period length\n",
    "# l = u.size\n",
    "# num_periods = int(l / p)\n",
    "# ys = []\n",
    "# us = []\n",
    "\n",
    "# for i in range(1, num_periods):\n",
    "#     c = i * p\n",
    "#     ys.append(y[c-a:c+b])\n",
    "#     us.append(u[c-a:c+b])\n",
    "# Y = np.array(ys)\n",
    "# U = np.array(us)\n",
    "\n",
    "\n",
    "# fig, axs = plt.subplots(nrows=2, sharex=True)\n",
    "# axs[0].plot(Y.T, c=\"b\", alpha=0.01)\n",
    "# axs[1].plot(U.T, c=\"r\", alpha=0.01)\n",
    "# axs[1].axvline(k, c=\"k\", linestyle=\"--\", alpha=0.7)\n",
    "# axs[1].axvline(a+b-k, c=\"k\", linestyle=\"--\", alpha=0.7)\n",
    "\n",
    "# plt.show()"
   ]
  },
  {
   "cell_type": "code",
   "execution_count": null,
   "metadata": {},
   "outputs": [],
   "source": [
    "# Average batches of examples to reduce noise\n",
    "batch_size = 9\n",
    "num_batches = Y.shape[0] // batch_size\n",
    "Ynew = np.zeros((num_batches, Y.shape[1]))\n",
    "Unew = np.zeros((num_batches, U.shape[1]))\n",
    "for i in range(num_batches):\n",
    "    start = i * batch_size\n",
    "    stop = start + batch_size\n",
    "    Ynew[i] = clipped_mean(Y[start:stop], lp=25, up=75)\n",
    "    Unew[i] = clipped_mean(U[start:stop], lp=25, up=75)\n",
    "\n",
    "Y = Ynew\n",
    "U = Unew"
   ]
  },
  {
   "cell_type": "code",
   "execution_count": null,
   "metadata": {},
   "outputs": [],
   "source": [
    "N = len(Y)\n",
    "yrs = []\n",
    "urs = []\n",
    "yurs = []\n",
    "yts = []\n",
    "for i in range(N):\n",
    "    y = Y[i]\n",
    "    u = U[i]\n",
    "\n",
    "    yr = create_rolling_window(y, k)\n",
    "    ur = create_rolling_window(u, k)\n",
    "    yur = np.hstack([yr, ur])\n",
    "    yt = y[k:]\n",
    "    \n",
    "    yrs.append(yr)\n",
    "    urs.append(ur)\n",
    "    yurs.append(yur)\n",
    "    yts.append(yt)\n",
    "\n",
    "yrs = np.vstack(yrs)\n",
    "urs = np.vstack(urs)\n",
    "yurs = np.vstack(yurs)\n",
    "yts = np.hstack(yts)\n",
    "\n",
    "YUR = yurs\n",
    "Yt = yts"
   ]
  },
  {
   "cell_type": "code",
   "execution_count": null,
   "metadata": {},
   "outputs": [],
   "source": [
    "examples_per_batch = 5\n",
    "num_batches = 8\n",
    "fig, axs = plt.subplots(nrows=2, ncols=num_batches, sharex=True, figsize=(20, 4))\n",
    "for i in range(num_batches):\n",
    "    start = i * examples_per_batch\n",
    "    stop = start + examples_per_batch\n",
    "    for j, cj in zip(range(start, stop), range(examples_per_batch)):\n",
    "        axs[0, i].plot(yrs[j], c=f\"C{cj}\", label=j)\n",
    "        axs[0, i].scatter(k, yts[j], c=f\"C{cj}\", label=j)\n",
    "        axs[1, i].plot(urs[j], c=f\"C{cj}\", label=j)\n",
    "    axs[1, i].legend()\n",
    "plt.tight_layout()\n",
    "plt.show()"
   ]
  },
  {
   "cell_type": "code",
   "execution_count": null,
   "metadata": {},
   "outputs": [],
   "source": [
    "# Train multistep predictor model\n",
    "# y_damp = 1e-9\n",
    "# u_damp = 1e-9\n",
    "\n",
    "y_damp = 1e-1 * np.linalg.eigh(yrs.T @ yrs).eigenvalues.min()\n",
    "u_damp = 1e-2 * np.linalg.eigh(urs.T @ urs).eigenvalues.min()\n",
    "\n",
    "# result = lsqr(YUR, Yt, damp=damp)\n",
    "# theta = result[0]\n",
    "\n",
    "# Set the regularizer\n",
    "\n",
    "R = np.diag(np.hstack([\n",
    "    y_damp * np.ones(k),\n",
    "    u_damp * np.ones(k),\n",
    "    ]))\n",
    "\n",
    "# R = np.diag(np.hstack([\n",
    "#     1e1 * np.ones(k),\n",
    "#     np.linspace(1e2, 1e-3, k),\n",
    "#     ]))\n",
    "\n",
    "# R = damp * np.eye(2*k)\n",
    "\n",
    "theta = np.linalg.solve(YUR.T @ YUR + R, YUR.T @ Yt)"
   ]
  },
  {
   "cell_type": "code",
   "execution_count": null,
   "metadata": {},
   "outputs": [],
   "source": [
    "y_coeffs = np.copy(np.flip(theta[0:k]))\n",
    "u_coeffs = np.copy(np.flip(theta[k:]))\n",
    "# y_coeffs /= np.sum(np.abs(y_coeffs))\n",
    "# u_coeffs /= np.sum(np.abs(u_coeffs))\n",
    "theta_df = pd.DataFrame({\"y_coeffs\": y_coeffs, \"u_coeffs\": u_coeffs})\n",
    "px.bar(theta_df, barmode=\"group\")"
   ]
  },
  {
   "cell_type": "code",
   "execution_count": null,
   "metadata": {},
   "outputs": [],
   "source": [
    "# One-step lookahead results\n",
    "\n",
    "# Prediction\n",
    "yt_hat = YUR @ theta\n",
    "\n",
    "# Add visual jitter for quantized x-values\n",
    "plt.scatter(Yt + 0.001 * np.random.rand(len(Yt)), yt_hat, alpha=0.3, s=3, c=\"k\", edgecolors=\"none\")\n",
    "plt.plot([-0.05, 0.05], [-0.05, 0.05], linestyle=\"--\", c=\"b\", alpha=0.5)\n",
    "plt.axis(\"square\")\n",
    "plt.xlim(-0.05, 0.05)\n",
    "plt.ylim(-0.05, 0.05)\n",
    "plt.grid(True)\n",
    "plt.show()"
   ]
  },
  {
   "cell_type": "code",
   "execution_count": null,
   "metadata": {},
   "outputs": [],
   "source": [
    "# # Open-loop control, closed-loop prediction, simulation of the ARX model\n",
    "# i = 1\n",
    "# yr = yrs[i]\n",
    "# ur = urs[i]\n",
    "\n",
    "# y_hist = []\n",
    "# y = yr[0]\n",
    "# for j in range(len(ur)):\n",
    "#     u = ur[j]\n",
    "#     yu = np.hstack([y, u])\n",
    "#     y_new = yu @ theta\n",
    "#     y = np.roll(y, shift=-1)\n",
    "#     y[-1] = y_new\n",
    "#     y_hist.append(np.copy(y))\n",
    "# y_hist = np.array(y_hist)\n",
    "\n",
    "\n",
    "# # Ground truth\n",
    "# yt = yts[i]\n",
    "\n",
    "# ydf = pd.DataFrame({\"y\": yt, \"y_hat\": y_hist[:, -1]})\n",
    "# px.line(ydf)\n"
   ]
  },
  {
   "cell_type": "code",
   "execution_count": null,
   "metadata": {},
   "outputs": [],
   "source": [
    "U = act_df.to_numpy().T\n",
    "Y = obs_df.to_numpy().T\n",
    "\n",
    "# Concatenate data from all periodic examples\n",
    "# u = U.flatten()\n",
    "# y = Y.flatten()\n",
    "\n",
    "# Average data from all periodic examples\n",
    "y = clipped_mean(Y, lp=25, up=75)\n",
    "u = clipped_mean(U, lp=25, up=75)\n",
    "\n",
    "yr = create_rolling_window(y, k)\n",
    "ur = create_rolling_window(u, k)\n",
    "yur = np.hstack([yr, ur])\n",
    "\n",
    "yt = y[k:]"
   ]
  },
  {
   "cell_type": "code",
   "execution_count": null,
   "metadata": {},
   "outputs": [],
   "source": [
    "# One-step prediction, averaged data\n",
    "\n",
    "# Prediction\n",
    "yt_hat = yur @ theta\n",
    "\n",
    "# Add visual jitter for quantized x-values\n",
    "plt.scatter(yt + 0.0001 * np.random.rand(len(yt)), yt_hat, alpha=0.8, s=10, c=\"k\", edgecolors=\"none\")\n",
    "plt.plot([-0.05, 0.05], [-0.05, 0.05], linestyle=\"--\", c=\"b\", alpha=0.7)\n",
    "plt.axis(\"square\")\n",
    "plt.xlim(-0.05, 0.05)\n",
    "plt.ylim(-0.05, 0.05)\n",
    "plt.grid(True)\n",
    "plt.show()"
   ]
  },
  {
   "cell_type": "code",
   "execution_count": null,
   "metadata": {},
   "outputs": [],
   "source": [
    "fig, axs = plt.subplots(nrows=2, sharex=True, figsize=(12, 6))\n",
    "axs[0].plot(yt, label=\"yt\")\n",
    "axs[0].plot(yt_hat, label=\"yt_hat\")\n",
    "axs[1].plot(u[k:], label=\"u\")\n",
    "axs[0].legend()\n",
    "axs[1].legend()\n",
    "plt.show()"
   ]
  },
  {
   "cell_type": "code",
   "execution_count": null,
   "metadata": {},
   "outputs": [],
   "source": [
    "T = len(ur)\n",
    "omega = 0.01  # how much to cheat"
   ]
  },
  {
   "cell_type": "code",
   "execution_count": null,
   "metadata": {},
   "outputs": [],
   "source": [
    "# Closed-loop prediction, averaged data\n",
    "\n",
    "y_hist = []\n",
    "z = yr[0]\n",
    "for j in range(T):\n",
    "    u = ur[j]\n",
    "    zu = np.hstack([z, u])\n",
    "    z_new = zu @ theta\n",
    "\n",
    "    # HACK\n",
    "    z_new = (1 - omega) * z_new + omega * yt[j]\n",
    "\n",
    "    z = np.roll(z, shift=-1)\n",
    "    z[-1] = z_new\n",
    "    y_hist.append(np.copy(z))\n",
    "y_hist = np.array(y_hist)"
   ]
  },
  {
   "cell_type": "code",
   "execution_count": null,
   "metadata": {},
   "outputs": [],
   "source": [
    "# Closed-loop prediction, averaged data, zero action\n",
    "\n",
    "y_hist_no_act = []\n",
    "z = yr[0]\n",
    "for j in range(T):\n",
    "    u = 0 * ur[j]\n",
    "    zu = np.hstack([z, u])\n",
    "    z_new = zu @ theta\n",
    "\n",
    "    # HACK\n",
    "    z_new = (1 - omega) * z_new + omega * yt[j]\n",
    "\n",
    "    z = np.roll(z, shift=-1)\n",
    "    z[-1] = z_new\n",
    "    y_hist_no_act.append(np.copy(z))\n",
    "y_hist_no_act = np.array(y_hist_no_act)"
   ]
  },
  {
   "cell_type": "code",
   "execution_count": null,
   "metadata": {},
   "outputs": [],
   "source": [
    "fig, axs = plt.subplots(nrows=2, sharex=True, figsize=(12, 6))\n",
    "axs[0].plot(yt, label=\"yt\")\n",
    "axs[0].plot(y_hist[:, -1], label=\"yt_hat\")\n",
    "axs[0].plot(y_hist_no_act[:, -1], label=\"yt_hat_zero_action\")\n",
    "\n",
    "axs[1].plot(ur[:, -1], label=\"u\")\n",
    "axs[0].legend()\n",
    "axs[1].legend()\n",
    "plt.show()"
   ]
  },
  {
   "cell_type": "code",
   "execution_count": null,
   "metadata": {},
   "outputs": [],
   "source": [
    "# TODO train a model on input-output history data\n",
    "\n",
    "# ARX / ARMAX / GARCH\n",
    "# https://arch.readthedocs.io/en/latest/univariate/generated/arch.univariate.ARX.html\n",
    "# statsmodels\n",
    "\n",
    "\n",
    "# DMD with control\n",
    "# SINDy with control\n",
    "\n",
    "# Transformer NN\n",
    "# RNN\n",
    "# LSTM"
   ]
  },
  {
   "cell_type": "code",
   "execution_count": null,
   "metadata": {},
   "outputs": [],
   "source": [
    "# from statsmodels.tsa.api import SARIMAX\n",
    "\n",
    "# mod = SARIMAX(y, exog=u, order=(k, 0, k))\n",
    "# sarimax_res = mod.fit(method=\"bfgs\")"
   ]
  },
  {
   "cell_type": "code",
   "execution_count": null,
   "metadata": {},
   "outputs": [],
   "source": [
    "# import numpy as np\n",
    "# from pykoopman import Koopman\n",
    "# from pykoopman.observables import Polynomial\n",
    "# from pykoopman.operators import EDMDc\n",
    "\n",
    "\n",
    "# # Step 2: Set up and fit the Koopman model with EDMDc\n",
    "# observable = Polynomial(order=2)\n",
    "# koopman_model = Koopman(observables=observable, operator=EDMDc())\n",
    "# koopman_model.fit(Y, U)\n",
    "\n",
    "# # Step 3: Predict future outputs\n",
    "# y_pred = koopman_model.predict(Y, U)\n",
    "\n",
    "# # Compare true and predicted outputs\n",
    "# import matplotlib.pyplot as plt\n",
    "\n",
    "# plt.figure(figsize=(10, 5))\n",
    "# plt.plot(y, label='True output')\n",
    "# plt.plot(y_pred, '--', label='Predicted output')\n",
    "# plt.legend()\n",
    "# plt.xlabel('Time step')\n",
    "# plt.ylabel('Output')\n",
    "\n",
    "# plt.tight_layout()\n",
    "# plt.show()\n",
    "\n",
    "# # Step 4: Extract the learned system matrices A and B\n",
    "# A_edmdc, B_edmdc = koopman_model.operator_.A, koopman_model.operator_.B\n",
    "# print(\"Learned A matrix:\\n\", A_edmdc)\n",
    "# print(\"Learned B matrix:\\n\", B_edmdc)\n"
   ]
  },
  {
   "cell_type": "code",
   "execution_count": null,
   "metadata": {},
   "outputs": [],
   "source": []
  },
  {
   "cell_type": "code",
   "execution_count": null,
   "metadata": {},
   "outputs": [],
   "source": []
  },
  {
   "cell_type": "code",
   "execution_count": null,
   "metadata": {},
   "outputs": [],
   "source": []
  }
 ],
 "metadata": {
  "kernelspec": {
   "display_name": "open-ball-beam",
   "language": "python",
   "name": "python3"
  },
  "language_info": {
   "codemirror_mode": {
    "name": "ipython",
    "version": 3
   },
   "file_extension": ".py",
   "mimetype": "text/x-python",
   "name": "python",
   "nbconvert_exporter": "python",
   "pygments_lexer": "ipython3",
   "version": "3.11.4"
  }
 },
 "nbformat": 4,
 "nbformat_minor": 2
}
